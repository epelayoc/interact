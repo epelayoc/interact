{
  "nbformat": 4,
  "nbformat_minor": 0,
  "metadata": {
    "colab": {
      "name": "Factorial.ipynb",
      "private_outputs": true,
      "provenance": [],
      "authorship_tag": "ABX9TyMGC7S9B6VgA5qmhJmnwAMg",
      "include_colab_link": true
    },
    "kernelspec": {
      "name": "python3",
      "display_name": "Python 3"
    },
    "language_info": {
      "name": "python"
    }
  },
  "cells": [
    {
      "cell_type": "markdown",
      "metadata": {
        "id": "view-in-github",
        "colab_type": "text"
      },
      "source": [
        "<a href=\"https://colab.research.google.com/github/epelayoc/interact/blob/main/Factorial.ipynb\" target=\"_parent\"><img src=\"https://colab.research.google.com/assets/colab-badge.svg\" alt=\"Open In Colab\"/></a>"
      ]
    },
    {
      "cell_type": "code",
      "execution_count": null,
      "metadata": {
        "id": "gudCMge-Py2c"
      },
      "outputs": [],
      "source": [
        "n = int(input(\"num?\"))\n",
        "fact = 1\n",
        "for i in range(n):\n",
        "  fact *= i+1\n",
        "print(\"Factorial:\", fact)\n"
      ]
    }
  ]
}