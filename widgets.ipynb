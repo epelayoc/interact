{
 "cells": [
  {
   "cell_type": "code",
   "execution_count": 1,
   "id": "dc5abeea-57a0-4f67-896d-b03046203a56",
   "metadata": {},
   "outputs": [],
   "source": [
    "import numpy as np\n",
    "import ipywidgets as widgets\n",
    "import bqplot.pyplot as plt\n"
   ]
  },
  {
   "cell_type": "code",
   "execution_count": 3,
   "id": "f1999fbf-9d76-4e53-bd78-c45bf8c57e21",
   "metadata": {},
   "outputs": [
    {
     "data": {
      "application/vnd.jupyter.widget-view+json": {
       "model_id": "022a4dda8f964d2b85d4667fcc8e03b5",
       "version_major": 2,
       "version_minor": 0
      },
      "text/plain": [
       "VBox(children=(Dropdown(description='Ticker', options=('A', 'B', 'C', 'D', 'E'), value='A'), Figure(axes=[Axis…"
      ]
     },
     "metadata": {},
     "output_type": "display_data"
    }
   ],
   "source": [
    "import pandas as pd\n",
    "\n",
    "# create a dummy time series for 5 dummy stock tickers\n",
    "dates = pd.date_range(start='20180101', end='20181231')\n",
    "n = len(dates)\n",
    "tickers = list('ABCDE')\n",
    "prices = pd.DataFrame(np.random.randn(n, 5).cumsum(axis=0), columns=tickers)\n",
    "# create a dropdown menu for tickers\n",
    "dropdown = widgets.Dropdown(description='Ticker', options=tickers)\n",
    "\n",
    "# create figure for plotting time series\n",
    "current_ticker = dropdown.value\n",
    "fig_title_tmpl = '\"{}\" Time Series' # string template for title of the figure \n",
    "fig2 = plt.figure(title=fig_title_tmpl.format(current_ticker))\n",
    "fig2.layout.width = '900px'\n",
    "time_series = plt.plot(dates, prices[current_ticker])\n",
    "plt.xlabel('Date')\n",
    "plt.ylabel('Price')\n",
    "\n",
    "# 1. create a callback which updates the plot when dropdown item is selected\n",
    "def update_plot(*args):\n",
    "    selected_ticker = dropdown.value\n",
    "    \n",
    "    # update the y attribute of the mark by selecting \n",
    "    # the column from the price data frame\n",
    "    time_series.y = prices[selected_ticker]\n",
    "    \n",
    "    # update the title of the figure\n",
    "    fig2.title = fig_title_tmpl.format(selected_ticker)\n",
    "\n",
    "# 2. register the callback by using the 'observe' method\n",
    "dropdown.observe(update_plot, 'value')\n",
    "\n",
    "# stack the dropdown and fig widgets using VBox\n",
    "widgets.VBox([dropdown, fig2])"
   ]
  },
  {
   "cell_type": "code",
   "execution_count": 4,
   "id": "7cc7ec50-846a-42f1-addc-787298f2c885",
   "metadata": {},
   "outputs": [
    {
     "data": {
      "text/plain": [
       "['A', 'B', 'C', 'D', 'E']"
      ]
     },
     "execution_count": 4,
     "metadata": {},
     "output_type": "execute_result"
    }
   ],
   "source": [
    "tickers"
   ]
  },
  {
   "cell_type": "code",
   "execution_count": 5,
   "id": "f876951d-e410-4b02-8c44-e70ffec0adfc",
   "metadata": {},
   "outputs": [
    {
     "data": {
      "text/plain": [
       "'\"A\" Time Series'"
      ]
     },
     "execution_count": 5,
     "metadata": {},
     "output_type": "execute_result"
    }
   ],
   "source": [
    "fig_title_tmpl.format(current_ticker)\n"
   ]
  },
  {
   "cell_type": "code",
   "execution_count": null,
   "id": "c88fb21c-cbdd-4a62-b72e-36844339b1b9",
   "metadata": {},
   "outputs": [],
   "source": []
  }
 ],
 "metadata": {
  "kernelspec": {
   "display_name": "Python 3 (ipykernel)",
   "language": "python",
   "name": "python3"
  },
  "language_info": {
   "codemirror_mode": {
    "name": "ipython",
    "version": 3
   },
   "file_extension": ".py",
   "mimetype": "text/x-python",
   "name": "python",
   "nbconvert_exporter": "python",
   "pygments_lexer": "ipython3",
   "version": "3.10.1"
  }
 },
 "nbformat": 4,
 "nbformat_minor": 5
}
