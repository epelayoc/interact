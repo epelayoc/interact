{
 "cells": [
  {
   "cell_type": "code",
   "execution_count": 2,
   "id": "3202653e-e458-4430-a997-9df81ea5af7b",
   "metadata": {
    "tags": []
   },
   "outputs": [],
   "source": [
    "# import dataframes\n",
    "from bqplot import pyplot as plt\n",
    "import pandas as pd\n",
    "import numpy as np\n",
    "import ipywidgets as widgets\n",
    "\n",
    "\n",
    "df_pr = pd.read_excel(\"ICT_projects.xlsx\") # projects dataframe\n",
    "df_org = pd.read_excel(\"ICT_organizations.xlsx\") # projects dataframe\n"
   ]
  },
  {
   "cell_type": "code",
   "execution_count": 3,
   "id": "5c08b0e9-1d0e-4556-ac39-516bb1f2bc8d",
   "metadata": {},
   "outputs": [],
   "source": [
    "# orgs by year\n",
    "df_pr[\"year\"] = pd.DatetimeIndex(df_pr['startDate']).year # New year column\n",
    "df_org_year = pd.merge(df_pr[[\"id\",\"year\"]], df_org, on=\"id\") # DF orgs_years"
   ]
  },
  {
   "cell_type": "code",
   "execution_count": 4,
   "id": "5d0c60d4-38fa-465c-ac71-7a7c33526ed8",
   "metadata": {},
   "outputs": [
    {
     "name": "stdout",
     "output_type": "stream",
     "text": [
      "['AL' 'AM' 'AR' 'AT' 'AU' 'BA' 'BE' 'BF' 'BG' 'BI' 'BJ' 'BR' 'BW' 'BY'\n",
      " 'CA' 'CH' 'CM' 'CN' 'CO' 'CY' 'CZ' 'DE' 'DK' 'EE' 'EG' 'EL' 'ES' 'ET'\n",
      " 'FI' 'FR' 'GE' 'GH' 'GI' 'GT' 'HK' 'HR' 'HU' 'ID' 'IE' 'IL' 'IS' 'IT'\n",
      " 'JP' 'KE' 'KR' 'LB' 'LR' 'LS' 'LT' 'LU' 'LV' 'MD' 'ME' 'MK' 'MT' 'MU'\n",
      " 'MW' 'MX' 'MY' 'MZ' 'NE' 'NG' 'NL' 'NO' 'NZ' 'PL' 'PT' 'RO' 'RS' 'RU'\n",
      " 'RW' 'SA' 'SE' 'SG' 'SI' 'SK' 'SN' 'SZ' 'TH' 'TN' 'TR' 'TW' 'TZ' 'UA'\n",
      " 'UG' 'UK' 'US' 'UY' 'VN' 'XK' 'ZA' 'ZM']\n"
     ]
    }
   ],
   "source": [
    "# generate country list\n",
    "countries = df_org[\"country\"].unique()\n",
    "countries = [x for x in countries if (type(x) == str and len(x)<5)] \n",
    "# Elimina NaN y nombres repetidos, aunque deberían sumarse al total del país\n",
    "countries = np.sort(countries)\n",
    "print(countries)"
   ]
  },
  {
   "cell_type": "code",
   "execution_count": 13,
   "id": "dde5c56d-e91e-4164-a0e4-babbf947cb5d",
   "metadata": {
    "tags": []
   },
   "outputs": [
    {
     "data": {
      "application/vnd.jupyter.widget-view+json": {
       "model_id": "048a3d849c804748becdb23f995d1771",
       "version_major": 2,
       "version_minor": 0
      },
      "text/plain": [
       "VBox(children=(Dropdown(description='Country?', options=('AL', 'AM', 'AR', 'AT', 'AU', 'BA', 'BE', 'BF', 'BG',…"
      ]
     },
     "metadata": {},
     "output_type": "display_data"
    }
   ],
   "source": [
    "# Interactive\n",
    "\n",
    "# create a dropdown menu\n",
    "dropdown = widgets.Dropdown(description='Country?', options=countries, value=None)\n",
    "\n",
    "# create figure for plotting time series\n",
    "country = \"ES\"\n",
    "fig = plt.figure(title = country + \" - UE Contribution per Year\")\n",
    "\n",
    "fig.layout.height = \"400px\"\n",
    "fig.layout.width = \"600px\"\n",
    "df_sel = df_org_year[df_org_year[\"country\"]==country]\n",
    "df_years = df_sel[[\"ecContribution\", \"year\"]].groupby([\"year\"]).sum()\n",
    "\n",
    "\n",
    "bar_chart  = plt.bar(x = df_years.index, y= df_years[\"ecContribution\"])\n",
    "bar_chart.colors = [\"tomato\"]\n",
    "plt.xlabel(\"Year\")\n",
    "plt.ylabel(\"EC Contribution (M€)\")\n",
    "\n",
    "\n",
    "# 1. create a callback which updates the plot when dropdown item is selected\n",
    "def update_plot(*args):\n",
    "    selected_country = dropdown.value\n",
    "    df_sel = df_org_year[df_org_year[\"country\"]==selected_country]\n",
    "    df_years = df_sel[[\"ecContribution\", \"year\"]].groupby([\"year\"]).sum()\n",
    "\n",
    "    \n",
    "    # update the y attribute of the mark by selecting \n",
    "    # the column from the price data frame\n",
    "    bar_chart.y = df_years[\"ecContribution\"]\n",
    "    \n",
    "    # update the title of the figure\n",
    "    fig.title = selected_country + \" - UE Contribution per Year\"\n",
    "# 2. register the callback by using the 'observe' method\n",
    "dropdown.observe(update_plot, 'value')\n",
    "\n",
    "# stack the dropdown and fig widgets using VBox\n",
    "widgets.VBox([dropdown, fig])\n"
   ]
  },
  {
   "cell_type": "code",
   "execution_count": null,
   "id": "593adcc9-8cbd-4ff8-be92-91acf98f4b0c",
   "metadata": {},
   "outputs": [],
   "source": []
  }
 ],
 "metadata": {
  "kernelspec": {
   "display_name": "Python 3 (ipykernel)",
   "language": "python",
   "name": "python3"
  },
  "language_info": {
   "codemirror_mode": {
    "name": "ipython",
    "version": 3
   },
   "file_extension": ".py",
   "mimetype": "text/x-python",
   "name": "python",
   "nbconvert_exporter": "python",
   "pygments_lexer": "ipython3",
   "version": "3.10.1"
  }
 },
 "nbformat": 4,
 "nbformat_minor": 5
}
